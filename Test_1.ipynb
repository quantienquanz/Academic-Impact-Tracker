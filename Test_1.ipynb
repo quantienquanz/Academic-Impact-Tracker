{
 "cells": [
  {
   "cell_type": "code",
   "execution_count": 1,
   "id": "25511fbd-a35a-4107-aaa9-d5be638fd61b",
   "metadata": {
    "id": "25511fbd-a35a-4107-aaa9-d5be638fd61b"
   },
   "outputs": [],
   "source": [
    "import pandas as pd\n",
    "import numpy as np\n",
    "from sklearn.decomposition import PCA\n",
    "from sklearn.datasets import make_classification\n",
    "from sklearn.preprocessing import StandardScaler"
   ]
  },
  {
   "cell_type": "code",
   "execution_count": 2,
   "id": "bLdh9xJyq0eA",
   "metadata": {
    "id": "bLdh9xJyq0eA",
    "tags": []
   },
   "outputs": [],
   "source": [
    "num_features = 50\n",
    "\n",
    "num_samples = 1000\n",
    "data1 = np.random.uniform(7.0, 10.0, size=(500, num_features))\n",
    "data2 = np.random.uniform(4.0, 10.0, size=(500, num_features))\n",
    "data3 = np.random.uniform(2.0, 10.0, size=(500, num_features))\n",
    "data =np.concatenate((data1, data2, data3), axis=0)\n"
   ]
  },
  {
   "cell_type": "code",
   "execution_count": 3,
   "id": "ZbelBYJmp5Ru",
   "metadata": {
    "id": "ZbelBYJmp5Ru"
   },
   "outputs": [],
   "source": [
    "df = pd.DataFrame(data)"
   ]
  },
  {
   "cell_type": "code",
   "execution_count": 4,
   "id": "MgvXndqLq8p4",
   "metadata": {
    "id": "MgvXndqLq8p4"
   },
   "outputs": [],
   "source": [
    "df = df.rename(columns={col: f'Môn{i+1}' for i, col in enumerate(df.columns)})"
   ]
  },
  {
   "cell_type": "code",
   "execution_count": 5,
   "id": "fAwTTohliA0P",
   "metadata": {
    "id": "fAwTTohliA0P"
   },
   "outputs": [],
   "source": [
    "df = df.sample(frac=1)"
   ]
  },
  {
   "cell_type": "code",
   "execution_count": 21,
   "id": "EGzVlOaYr_KA",
   "metadata": {
    "colab": {
     "base_uri": "https://localhost:8080/",
     "height": 236
    },
    "id": "EGzVlOaYr_KA",
    "outputId": "7afe8fb4-510c-40cf-94b6-cf809e7c3ae8"
   },
   "outputs": [
    {
     "data": {
      "text/html": [
       "<div>\n",
       "<style scoped>\n",
       "    .dataframe tbody tr th:only-of-type {\n",
       "        vertical-align: middle;\n",
       "    }\n",
       "\n",
       "    .dataframe tbody tr th {\n",
       "        vertical-align: top;\n",
       "    }\n",
       "\n",
       "    .dataframe thead th {\n",
       "        text-align: right;\n",
       "    }\n",
       "</style>\n",
       "<table border=\"1\" class=\"dataframe\">\n",
       "  <thead>\n",
       "    <tr style=\"text-align: right;\">\n",
       "      <th></th>\n",
       "      <th>Môn1</th>\n",
       "      <th>Môn2</th>\n",
       "      <th>Môn3</th>\n",
       "      <th>Môn4</th>\n",
       "      <th>Môn5</th>\n",
       "      <th>Môn6</th>\n",
       "      <th>Môn7</th>\n",
       "      <th>Môn8</th>\n",
       "      <th>Môn9</th>\n",
       "      <th>Môn10</th>\n",
       "      <th>...</th>\n",
       "      <th>Môn43</th>\n",
       "      <th>Môn44</th>\n",
       "      <th>Môn45</th>\n",
       "      <th>Môn46</th>\n",
       "      <th>Môn47</th>\n",
       "      <th>Môn48</th>\n",
       "      <th>Môn49</th>\n",
       "      <th>Môn50</th>\n",
       "      <th>TB</th>\n",
       "      <th>Grade</th>\n",
       "    </tr>\n",
       "  </thead>\n",
       "  <tbody>\n",
       "    <tr>\n",
       "      <th>0</th>\n",
       "      <td>7.614805</td>\n",
       "      <td>8.432695</td>\n",
       "      <td>9.739260</td>\n",
       "      <td>7.514045</td>\n",
       "      <td>9.716328</td>\n",
       "      <td>8.629942</td>\n",
       "      <td>8.089906</td>\n",
       "      <td>8.787271</td>\n",
       "      <td>7.302190</td>\n",
       "      <td>8.646086</td>\n",
       "      <td>...</td>\n",
       "      <td>9.822472</td>\n",
       "      <td>8.747012</td>\n",
       "      <td>7.102675</td>\n",
       "      <td>9.460496</td>\n",
       "      <td>7.185297</td>\n",
       "      <td>9.193589</td>\n",
       "      <td>8.147340</td>\n",
       "      <td>9.285403</td>\n",
       "      <td>8.671181</td>\n",
       "      <td>A</td>\n",
       "    </tr>\n",
       "    <tr>\n",
       "      <th>1</th>\n",
       "      <td>9.172458</td>\n",
       "      <td>8.673107</td>\n",
       "      <td>8.813114</td>\n",
       "      <td>9.658617</td>\n",
       "      <td>9.968759</td>\n",
       "      <td>7.932860</td>\n",
       "      <td>9.101613</td>\n",
       "      <td>8.995995</td>\n",
       "      <td>8.222925</td>\n",
       "      <td>8.995448</td>\n",
       "      <td>...</td>\n",
       "      <td>9.825651</td>\n",
       "      <td>7.107953</td>\n",
       "      <td>9.989350</td>\n",
       "      <td>7.382590</td>\n",
       "      <td>9.921633</td>\n",
       "      <td>7.002760</td>\n",
       "      <td>7.712632</td>\n",
       "      <td>9.347205</td>\n",
       "      <td>8.651860</td>\n",
       "      <td>A</td>\n",
       "    </tr>\n",
       "    <tr>\n",
       "      <th>2</th>\n",
       "      <td>8.145754</td>\n",
       "      <td>7.405483</td>\n",
       "      <td>2.098185</td>\n",
       "      <td>5.359938</td>\n",
       "      <td>8.959413</td>\n",
       "      <td>4.088708</td>\n",
       "      <td>7.979245</td>\n",
       "      <td>2.339220</td>\n",
       "      <td>3.855439</td>\n",
       "      <td>5.853603</td>\n",
       "      <td>...</td>\n",
       "      <td>4.486249</td>\n",
       "      <td>4.363985</td>\n",
       "      <td>4.625705</td>\n",
       "      <td>4.927222</td>\n",
       "      <td>9.396399</td>\n",
       "      <td>3.540746</td>\n",
       "      <td>6.838980</td>\n",
       "      <td>9.114735</td>\n",
       "      <td>6.202752</td>\n",
       "      <td>C</td>\n",
       "    </tr>\n",
       "    <tr>\n",
       "      <th>3</th>\n",
       "      <td>9.795398</td>\n",
       "      <td>9.808644</td>\n",
       "      <td>9.038408</td>\n",
       "      <td>9.527267</td>\n",
       "      <td>7.854598</td>\n",
       "      <td>8.023329</td>\n",
       "      <td>7.292862</td>\n",
       "      <td>7.134118</td>\n",
       "      <td>7.725492</td>\n",
       "      <td>9.743637</td>\n",
       "      <td>...</td>\n",
       "      <td>7.080703</td>\n",
       "      <td>9.249716</td>\n",
       "      <td>8.032573</td>\n",
       "      <td>8.131341</td>\n",
       "      <td>8.008802</td>\n",
       "      <td>8.488128</td>\n",
       "      <td>7.522149</td>\n",
       "      <td>7.104731</td>\n",
       "      <td>8.507968</td>\n",
       "      <td>A</td>\n",
       "    </tr>\n",
       "    <tr>\n",
       "      <th>4</th>\n",
       "      <td>7.310591</td>\n",
       "      <td>8.181978</td>\n",
       "      <td>9.370978</td>\n",
       "      <td>9.215867</td>\n",
       "      <td>9.511673</td>\n",
       "      <td>7.714008</td>\n",
       "      <td>8.099044</td>\n",
       "      <td>9.383331</td>\n",
       "      <td>9.690420</td>\n",
       "      <td>7.648052</td>\n",
       "      <td>...</td>\n",
       "      <td>7.473397</td>\n",
       "      <td>7.460588</td>\n",
       "      <td>8.773091</td>\n",
       "      <td>7.355643</td>\n",
       "      <td>8.371523</td>\n",
       "      <td>9.596208</td>\n",
       "      <td>9.832191</td>\n",
       "      <td>8.388635</td>\n",
       "      <td>8.558955</td>\n",
       "      <td>A</td>\n",
       "    </tr>\n",
       "  </tbody>\n",
       "</table>\n",
       "<p>5 rows × 52 columns</p>\n",
       "</div>"
      ],
      "text/plain": [
       "       Môn1      Môn2      Môn3      Môn4      Môn5      Môn6      Môn7  \\\n",
       "0  7.614805  8.432695  9.739260  7.514045  9.716328  8.629942  8.089906   \n",
       "1  9.172458  8.673107  8.813114  9.658617  9.968759  7.932860  9.101613   \n",
       "2  8.145754  7.405483  2.098185  5.359938  8.959413  4.088708  7.979245   \n",
       "3  9.795398  9.808644  9.038408  9.527267  7.854598  8.023329  7.292862   \n",
       "4  7.310591  8.181978  9.370978  9.215867  9.511673  7.714008  8.099044   \n",
       "\n",
       "       Môn8      Môn9     Môn10  ...     Môn43     Môn44     Môn45     Môn46  \\\n",
       "0  8.787271  7.302190  8.646086  ...  9.822472  8.747012  7.102675  9.460496   \n",
       "1  8.995995  8.222925  8.995448  ...  9.825651  7.107953  9.989350  7.382590   \n",
       "2  2.339220  3.855439  5.853603  ...  4.486249  4.363985  4.625705  4.927222   \n",
       "3  7.134118  7.725492  9.743637  ...  7.080703  9.249716  8.032573  8.131341   \n",
       "4  9.383331  9.690420  7.648052  ...  7.473397  7.460588  8.773091  7.355643   \n",
       "\n",
       "      Môn47     Môn48     Môn49     Môn50        TB  Grade  \n",
       "0  7.185297  9.193589  8.147340  9.285403  8.671181      A  \n",
       "1  9.921633  7.002760  7.712632  9.347205  8.651860      A  \n",
       "2  9.396399  3.540746  6.838980  9.114735  6.202752      C  \n",
       "3  8.008802  8.488128  7.522149  7.104731  8.507968      A  \n",
       "4  8.371523  9.596208  9.832191  8.388635  8.558955      A  \n",
       "\n",
       "[5 rows x 52 columns]"
      ]
     },
     "execution_count": 21,
     "metadata": {},
     "output_type": "execute_result"
    }
   ],
   "source": [
    "df.head()"
   ]
  },
  {
   "cell_type": "code",
   "execution_count": 7,
   "id": "OrejgSp39evH",
   "metadata": {
    "id": "OrejgSp39evH"
   },
   "outputs": [],
   "source": [
    "df = df.reset_index(drop=True)"
   ]
  },
  {
   "cell_type": "code",
   "execution_count": 8,
   "id": "vnhY2YEmsKQ2",
   "metadata": {
    "id": "vnhY2YEmsKQ2"
   },
   "outputs": [],
   "source": [
    "df['TB'] = df.iloc[:,:].mean(axis=1)"
   ]
  },
  {
   "cell_type": "code",
   "execution_count": 9,
   "id": "F66u4r7fuS8s",
   "metadata": {
    "id": "F66u4r7fuS8s"
   },
   "outputs": [],
   "source": [
    "bins = [4, 4.9, 5.4, 6.4, 6.9, 7.9, 8.4,10] # Các ngưỡng điểm trung bình\n",
    "labels = ['D', 'D+', 'C','C+', 'B', 'B+', 'A']  # Nhãn tương ứng với các khoảng điểm\n",
    "\n",
    "# Chuyển đổi điểm trung bình thành điểm chữ và gán lại cho cột 'Điểm trung bình'\n",
    "df['Grade'] = pd.cut(df['TB'], bins=bins, labels=labels, right=True, include_lowest=True)"
   ]
  },
  {
   "cell_type": "code",
   "execution_count": 24,
   "id": "q-0yFSuJuWEV",
   "metadata": {
    "colab": {
     "base_uri": "https://localhost:8080/",
     "height": 236
    },
    "id": "q-0yFSuJuWEV",
    "outputId": "d76dd7b0-f8b5-46f9-f235-4171b4e88f02"
   },
   "outputs": [
    {
     "data": {
      "text/html": [
       "<div>\n",
       "<style scoped>\n",
       "    .dataframe tbody tr th:only-of-type {\n",
       "        vertical-align: middle;\n",
       "    }\n",
       "\n",
       "    .dataframe tbody tr th {\n",
       "        vertical-align: top;\n",
       "    }\n",
       "\n",
       "    .dataframe thead th {\n",
       "        text-align: right;\n",
       "    }\n",
       "</style>\n",
       "<table border=\"1\" class=\"dataframe\">\n",
       "  <thead>\n",
       "    <tr style=\"text-align: right;\">\n",
       "      <th></th>\n",
       "      <th>Môn1</th>\n",
       "      <th>Môn2</th>\n",
       "      <th>Môn3</th>\n",
       "      <th>Môn4</th>\n",
       "      <th>Môn5</th>\n",
       "      <th>Môn6</th>\n",
       "      <th>Môn7</th>\n",
       "      <th>Môn8</th>\n",
       "      <th>Môn9</th>\n",
       "      <th>Môn10</th>\n",
       "      <th>...</th>\n",
       "      <th>Môn43</th>\n",
       "      <th>Môn44</th>\n",
       "      <th>Môn45</th>\n",
       "      <th>Môn46</th>\n",
       "      <th>Môn47</th>\n",
       "      <th>Môn48</th>\n",
       "      <th>Môn49</th>\n",
       "      <th>Môn50</th>\n",
       "      <th>TB</th>\n",
       "      <th>Grade</th>\n",
       "    </tr>\n",
       "  </thead>\n",
       "  <tbody>\n",
       "    <tr>\n",
       "      <th>0</th>\n",
       "      <td>7.614805</td>\n",
       "      <td>8.432695</td>\n",
       "      <td>9.739260</td>\n",
       "      <td>7.514045</td>\n",
       "      <td>9.716328</td>\n",
       "      <td>8.629942</td>\n",
       "      <td>8.089906</td>\n",
       "      <td>8.787271</td>\n",
       "      <td>7.302190</td>\n",
       "      <td>8.646086</td>\n",
       "      <td>...</td>\n",
       "      <td>9.822472</td>\n",
       "      <td>8.747012</td>\n",
       "      <td>7.102675</td>\n",
       "      <td>9.460496</td>\n",
       "      <td>7.185297</td>\n",
       "      <td>9.193589</td>\n",
       "      <td>8.147340</td>\n",
       "      <td>9.285403</td>\n",
       "      <td>8.671181</td>\n",
       "      <td>A</td>\n",
       "    </tr>\n",
       "    <tr>\n",
       "      <th>1</th>\n",
       "      <td>9.172458</td>\n",
       "      <td>8.673107</td>\n",
       "      <td>8.813114</td>\n",
       "      <td>9.658617</td>\n",
       "      <td>9.968759</td>\n",
       "      <td>7.932860</td>\n",
       "      <td>9.101613</td>\n",
       "      <td>8.995995</td>\n",
       "      <td>8.222925</td>\n",
       "      <td>8.995448</td>\n",
       "      <td>...</td>\n",
       "      <td>9.825651</td>\n",
       "      <td>7.107953</td>\n",
       "      <td>9.989350</td>\n",
       "      <td>7.382590</td>\n",
       "      <td>9.921633</td>\n",
       "      <td>7.002760</td>\n",
       "      <td>7.712632</td>\n",
       "      <td>9.347205</td>\n",
       "      <td>8.651860</td>\n",
       "      <td>A</td>\n",
       "    </tr>\n",
       "    <tr>\n",
       "      <th>2</th>\n",
       "      <td>8.145754</td>\n",
       "      <td>7.405483</td>\n",
       "      <td>2.098185</td>\n",
       "      <td>5.359938</td>\n",
       "      <td>8.959413</td>\n",
       "      <td>4.088708</td>\n",
       "      <td>7.979245</td>\n",
       "      <td>2.339220</td>\n",
       "      <td>3.855439</td>\n",
       "      <td>5.853603</td>\n",
       "      <td>...</td>\n",
       "      <td>4.486249</td>\n",
       "      <td>4.363985</td>\n",
       "      <td>4.625705</td>\n",
       "      <td>4.927222</td>\n",
       "      <td>9.396399</td>\n",
       "      <td>3.540746</td>\n",
       "      <td>6.838980</td>\n",
       "      <td>9.114735</td>\n",
       "      <td>6.202752</td>\n",
       "      <td>C</td>\n",
       "    </tr>\n",
       "    <tr>\n",
       "      <th>3</th>\n",
       "      <td>9.795398</td>\n",
       "      <td>9.808644</td>\n",
       "      <td>9.038408</td>\n",
       "      <td>9.527267</td>\n",
       "      <td>7.854598</td>\n",
       "      <td>8.023329</td>\n",
       "      <td>7.292862</td>\n",
       "      <td>7.134118</td>\n",
       "      <td>7.725492</td>\n",
       "      <td>9.743637</td>\n",
       "      <td>...</td>\n",
       "      <td>7.080703</td>\n",
       "      <td>9.249716</td>\n",
       "      <td>8.032573</td>\n",
       "      <td>8.131341</td>\n",
       "      <td>8.008802</td>\n",
       "      <td>8.488128</td>\n",
       "      <td>7.522149</td>\n",
       "      <td>7.104731</td>\n",
       "      <td>8.507968</td>\n",
       "      <td>A</td>\n",
       "    </tr>\n",
       "    <tr>\n",
       "      <th>4</th>\n",
       "      <td>7.310591</td>\n",
       "      <td>8.181978</td>\n",
       "      <td>9.370978</td>\n",
       "      <td>9.215867</td>\n",
       "      <td>9.511673</td>\n",
       "      <td>7.714008</td>\n",
       "      <td>8.099044</td>\n",
       "      <td>9.383331</td>\n",
       "      <td>9.690420</td>\n",
       "      <td>7.648052</td>\n",
       "      <td>...</td>\n",
       "      <td>7.473397</td>\n",
       "      <td>7.460588</td>\n",
       "      <td>8.773091</td>\n",
       "      <td>7.355643</td>\n",
       "      <td>8.371523</td>\n",
       "      <td>9.596208</td>\n",
       "      <td>9.832191</td>\n",
       "      <td>8.388635</td>\n",
       "      <td>8.558955</td>\n",
       "      <td>A</td>\n",
       "    </tr>\n",
       "  </tbody>\n",
       "</table>\n",
       "<p>5 rows × 52 columns</p>\n",
       "</div>"
      ],
      "text/plain": [
       "       Môn1      Môn2      Môn3      Môn4      Môn5      Môn6      Môn7  \\\n",
       "0  7.614805  8.432695  9.739260  7.514045  9.716328  8.629942  8.089906   \n",
       "1  9.172458  8.673107  8.813114  9.658617  9.968759  7.932860  9.101613   \n",
       "2  8.145754  7.405483  2.098185  5.359938  8.959413  4.088708  7.979245   \n",
       "3  9.795398  9.808644  9.038408  9.527267  7.854598  8.023329  7.292862   \n",
       "4  7.310591  8.181978  9.370978  9.215867  9.511673  7.714008  8.099044   \n",
       "\n",
       "       Môn8      Môn9     Môn10  ...     Môn43     Môn44     Môn45     Môn46  \\\n",
       "0  8.787271  7.302190  8.646086  ...  9.822472  8.747012  7.102675  9.460496   \n",
       "1  8.995995  8.222925  8.995448  ...  9.825651  7.107953  9.989350  7.382590   \n",
       "2  2.339220  3.855439  5.853603  ...  4.486249  4.363985  4.625705  4.927222   \n",
       "3  7.134118  7.725492  9.743637  ...  7.080703  9.249716  8.032573  8.131341   \n",
       "4  9.383331  9.690420  7.648052  ...  7.473397  7.460588  8.773091  7.355643   \n",
       "\n",
       "      Môn47     Môn48     Môn49     Môn50        TB  Grade  \n",
       "0  7.185297  9.193589  8.147340  9.285403  8.671181      A  \n",
       "1  9.921633  7.002760  7.712632  9.347205  8.651860      A  \n",
       "2  9.396399  3.540746  6.838980  9.114735  6.202752      C  \n",
       "3  8.008802  8.488128  7.522149  7.104731  8.507968      A  \n",
       "4  8.371523  9.596208  9.832191  8.388635  8.558955      A  \n",
       "\n",
       "[5 rows x 52 columns]"
      ]
     },
     "execution_count": 24,
     "metadata": {},
     "output_type": "execute_result"
    }
   ],
   "source": [
    "df.head()"
   ]
  },
  {
   "cell_type": "code",
   "execution_count": 11,
   "id": "aiJpsl5wuaOE",
   "metadata": {
    "colab": {
     "base_uri": "https://localhost:8080/"
    },
    "id": "aiJpsl5wuaOE",
    "outputId": "8815bce2-6009-4ef5-d1ea-67def8cd450a"
   },
   "outputs": [
    {
     "data": {
      "text/plain": [
       "['A', 'C', 'B+', 'C+', 'B', 'D+']\n",
       "Categories (7, object): ['D' < 'D+' < 'C' < 'C+' < 'B' < 'B+' < 'A']"
      ]
     },
     "execution_count": 11,
     "metadata": {},
     "output_type": "execute_result"
    }
   ],
   "source": [
    "df['Grade'].unique()"
   ]
  },
  {
   "cell_type": "code",
   "execution_count": 12,
   "id": "Cpfabw4MswL3",
   "metadata": {
    "colab": {
     "base_uri": "https://localhost:8080/",
     "height": 678
    },
    "id": "Cpfabw4MswL3",
    "outputId": "fc2af348-a936-4f82-c95e-5300c37c8ce2"
   },
   "outputs": [
    {
     "data": {
      "image/png": "[encoded data removed]",
      "text/plain": [
       "<Figure size 1512x576 with 1 Axes>"
      ]
     },
     "metadata": {
      "needs_background": "light"
     },
     "output_type": "display_data"
    }
   ],
   "source": [
    "import matplotlib.pyplot as plt\n",
    "\n",
    "plt.figure(figsize=(21,8))\n",
    "plt.scatter( np.arange(1500),df['TB'])\n",
    "\n",
    "plt.show()"
   ]
  },
  {
   "cell_type": "code",
   "execution_count": 13,
   "id": "mpQbkZH2-7pR",
   "metadata": {
    "id": "mpQbkZH2-7pR"
   },
   "outputs": [],
   "source": [
    "X = df.iloc[:,:-2]\n",
    "y = df[['Grade']]"
   ]
  },
  {
   "cell_type": "code",
   "execution_count": 14,
   "id": "lCNF-Jg9NpC9",
   "metadata": {
    "id": "lCNF-Jg9NpC9"
   },
   "outputs": [],
   "source": [
    "from sklearn.model_selection import train_test_split\n",
    "\n",
    "X_train, X_test, y_train, y_test = train_test_split(X, y, test_size=0.2, random_state=42)"
   ]
  },
  {
   "cell_type": "code",
   "execution_count": 15,
   "id": "cEgjjTKsGiHX",
   "metadata": {
    "id": "cEgjjTKsGiHX"
   },
   "outputs": [],
   "source": [
    "scaler = StandardScaler()\n",
    "X_scaled = scaler.fit_transform(X_train)\n",
    "X_scaled_test = scaler.transform(X_test)"
   ]
  },
  {
   "cell_type": "code",
   "execution_count": 16,
   "id": "HGdLn7rdGiEr",
   "metadata": {
    "id": "HGdLn7rdGiEr"
   },
   "outputs": [],
   "source": [
    "pca = PCA(n_components=0.90)  # Chọn số lượng thành phần chính cần giữ lại là 30\n",
    "X_pca = pca.fit_transform(X_scaled)\n",
    "X_test_pca = pca.transform(X_scaled_test)"
   ]
  },
  {
   "cell_type": "code",
   "execution_count": 17,
   "id": "b1mYMAfMWyE9",
   "metadata": {
    "colab": {
     "base_uri": "https://localhost:8080/"
    },
    "id": "b1mYMAfMWyE9",
    "outputId": "a028abe1-b447-4b10-a2b9-b9179db7758e"
   },
   "outputs": [
    {
     "name": "stdout",
     "output_type": "stream",
     "text": [
      "Tỉ lệ phương sai được giải thích bởi mỗi thành phần chính: [0.27530245 0.02214672 0.02154694 0.02121986 0.02032356 0.02019326\n",
      " 0.0198791  0.01957969 0.01884533 0.01874903 0.01817164 0.01808877\n",
      " 0.0179016  0.01755879 0.01727145 0.0170862  0.01654565 0.0163349\n",
      " 0.01601111 0.01577301 0.01556251 0.01530052 0.01500482 0.01489093\n",
      " 0.01456123 0.01442757 0.01428164 0.01398377 0.01379021 0.01359406\n",
      " 0.01339067 0.01332959 0.01317057 0.01295189 0.01233715 0.01201807\n",
      " 0.01198067 0.0118669  0.0117198  0.01135662 0.01118047]\n"
     ]
    }
   ],
   "source": [
    "explained_variance_ratio = pca.explained_variance_ratio_\n",
    "print(\"Tỉ lệ phương sai được giải thích bởi mỗi thành phần chính:\", explained_variance_ratio)"
   ]
  },
  {
   "cell_type": "code",
   "execution_count": 29,
   "id": "VJj9_pD9OaWL",
   "metadata": {
    "colab": {
     "base_uri": "https://localhost:8080/",
     "height": 109
    },
    "id": "VJj9_pD9OaWL",
    "outputId": "c07a29b0-8837-4850-cf8f-3900c20dedea"
   },
   "outputs": [
    {
     "name": "stderr",
     "output_type": "stream",
     "text": [
      "C:\\Users\\Admin\\AppData\\Local\\Temp\\ipykernel_19056\\2392130277.py:4: DataConversionWarning: A column-vector y was passed when a 1d array was expected. Please change the shape of y to (n_samples,), for example using ravel().\n",
      "  clf.fit(X_pca, y_train)\n"
     ]
    },
    {
     "data": {
      "text/plain": [
       "RandomForestClassifier(max_depth=5, random_state=42)"
      ]
     },
     "execution_count": 29,
     "metadata": {},
     "output_type": "execute_result"
    }
   ],
   "source": [
    "from sklearn.ensemble import RandomForestClassifier\n",
    "from sklearn.metrics import accuracy_score\n",
    "clf = RandomForestClassifier(n_estimators=100, max_depth=5,random_state=42)\n",
    "clf.fit(X_pca, y_train)"
   ]
  },
  {
   "cell_type": "code",
   "execution_count": 30,
   "id": "XcdpHkfjOzLX",
   "metadata": {
    "id": "XcdpHkfjOzLX"
   },
   "outputs": [],
   "source": [
    "y_pred = clf.predict(X_test_pca)"
   ]
  },
  {
   "cell_type": "code",
   "execution_count": 31,
   "id": "FJj1gLxEOzJC",
   "metadata": {
    "colab": {
     "base_uri": "https://localhost:8080/"
    },
    "id": "FJj1gLxEOzJC",
    "outputId": "97fa2740-901d-438f-c61f-4ede375ced4e"
   },
   "outputs": [
    {
     "name": "stdout",
     "output_type": "stream",
     "text": [
      "Độ chính xác của mô hình: 0.8\n"
     ]
    }
   ],
   "source": [
    "accuracy = accuracy_score(y_test, y_pred)\n",
    "print(\"Độ chính xác của mô hình:\", accuracy)"
   ]
  },
  {
   "cell_type": "code",
   "execution_count": 32,
   "id": "QZIe4KUzlOtP",
   "metadata": {
    "id": "QZIe4KUzlOtP"
   },
   "outputs": [
    {
     "name": "stderr",
     "output_type": "stream",
     "text": [
      "C:\\Users\\Admin\\anaconda3\\lib\\site-packages\\sklearn\\utils\\validation.py:993: DataConversionWarning: A column-vector y was passed when a 1d array was expected. Please change the shape of y to (n_samples, ), for example using ravel().\n",
      "  y = column_or_1d(y, warn=True)\n"
     ]
    },
    {
     "data": {
      "text/plain": [
       "LogisticRegression(max_iter=1000, random_state=42)"
      ]
     },
     "execution_count": 32,
     "metadata": {},
     "output_type": "execute_result"
    }
   ],
   "source": [
    "from sklearn.linear_model import LogisticRegression\n",
    "from sklearn.metrics import accuracy_score\n",
    "logreg = LogisticRegression(max_iter=1000, random_state=42)\n",
    "logreg.fit(X_pca, y_train)"
   ]
  },
  {
   "cell_type": "code",
   "execution_count": 33,
   "id": "77272c90-f698-402b-9950-8bae4fda5f40",
   "metadata": {},
   "outputs": [],
   "source": [
    "y_pred_logreg = logreg.predict(X_test_pca)"
   ]
  },
  {
   "cell_type": "code",
   "execution_count": 34,
   "id": "3f17664a-123e-4300-8762-b0ae7aa75070",
   "metadata": {},
   "outputs": [
    {
     "name": "stdout",
     "output_type": "stream",
     "text": [
      "Độ chính xác của mô hình Logistic Regression: 0.9266666666666666\n"
     ]
    }
   ],
   "source": [
    "accuracy_logreg = accuracy_score(y_test, y_pred_logreg)\n",
    "print(\"Độ chính xác của mô hình Logistic Regression:\", accuracy_logreg)"
   ]
  },
  {
   "cell_type": "code",
   "execution_count": null,
   "id": "e7a35aab-5a4d-4ac7-bff0-b58d80465747",
   "metadata": {},
   "outputs": [],
   "source": []
  }
 ],
 "metadata": {
  "colab": {
   "provenance": []
  },
  "kernelspec": {
   "display_name": "Python 3 (ipykernel)",
   "language": "python",
   "name": "python3"
  },
  "language_info": {
   "codemirror_mode": {
    "name": "ipython",
    "version": 3
   },
   "file_extension": ".py",
   "mimetype": "text/x-python",
   "name": "python",
   "nbconvert_exporter": "python",
   "pygments_lexer": "ipython3",
   "version": "3.9.12"
  }
 },
 "nbformat": 4,
 "nbformat_minor": 5
}
